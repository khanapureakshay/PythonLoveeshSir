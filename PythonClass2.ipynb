{
 "cells": [
  {
   "cell_type": "markdown",
   "metadata": {},
   "source": [
    "#### Tuples\n",
    "1. Tuple are Immutable\n",
    "2. They can be assesed by indices + and -"
   ]
  },
  {
   "cell_type": "code",
   "execution_count": 50,
   "metadata": {},
   "outputs": [
    {
     "data": {
      "text/plain": [
       "(1, 2, 3, 4, 3, 4, 5, 6)"
      ]
     },
     "execution_count": 50,
     "metadata": {},
     "output_type": "execute_result"
    }
   ],
   "source": [
    "# Tuple can be added\n",
    "a=(1,2,3,4)\n",
    "b=(3,4,5,6)\n",
    "c=a+b\n",
    "c"
   ]
  },
  {
   "cell_type": "markdown",
   "metadata": {},
   "source": [
    "#### Dictionary\n",
    "1. Think like spreadsheet column=KEYS,Rows= Values\n",
    "2. Each key has different Data type is Possible\n",
    "3. keys : values"
   ]
  },
  {
   "cell_type": "code",
   "execution_count": 51,
   "metadata": {},
   "outputs": [
    {
     "data": {
      "text/plain": [
       "{'a': 12, 'v': (1, 2, 3, 4), 5: 'Harry', 'li': [2, 3, 4]}"
      ]
     },
     "execution_count": 51,
     "metadata": {},
     "output_type": "execute_result"
    }
   ],
   "source": [
    "dict={ \"a\":12,\"v\":(1,2,3,4),5:\"Harry\",\"li\":[2,3,4]}\n",
    "dict"
   ]
  },
  {
   "cell_type": "code",
   "execution_count": 52,
   "metadata": {},
   "outputs": [
    {
     "data": {
      "text/plain": [
       "[2, 3, 4]"
      ]
     },
     "execution_count": 52,
     "metadata": {},
     "output_type": "execute_result"
    }
   ],
   "source": [
    "dict[\"li\"]"
   ]
  },
  {
   "cell_type": "code",
   "execution_count": 53,
   "metadata": {},
   "outputs": [
    {
     "data": {
      "text/plain": [
       "'Harry'"
      ]
     },
     "execution_count": 53,
     "metadata": {},
     "output_type": "execute_result"
    }
   ],
   "source": [
    "dict[5]"
   ]
  },
  {
   "cell_type": "code",
   "execution_count": 54,
   "metadata": {},
   "outputs": [
    {
     "data": {
      "text/plain": [
       "dict_keys(['a', 'v', 5, 'li'])"
      ]
     },
     "execution_count": 54,
     "metadata": {},
     "output_type": "execute_result"
    }
   ],
   "source": [
    "dict.keys()"
   ]
  },
  {
   "cell_type": "code",
   "execution_count": 55,
   "metadata": {},
   "outputs": [
    {
     "data": {
      "text/plain": [
       "dict_values([12, (1, 2, 3, 4), 'Harry', [2, 3, 4]])"
      ]
     },
     "execution_count": 55,
     "metadata": {},
     "output_type": "execute_result"
    }
   ],
   "source": [
    "dict.values()"
   ]
  },
  {
   "cell_type": "code",
   "execution_count": 56,
   "metadata": {},
   "outputs": [
    {
     "data": {
      "text/plain": [
       "{'a': 12, 'v': (1, 2, 3, 4), 5: 'Harry', 'li': [2, 3, 4]}"
      ]
     },
     "execution_count": 56,
     "metadata": {},
     "output_type": "execute_result"
    }
   ],
   "source": [
    "dict"
   ]
  },
  {
   "cell_type": "code",
   "execution_count": 57,
   "metadata": {},
   "outputs": [],
   "source": [
    "dict[\"v\"]=\"verran\""
   ]
  },
  {
   "cell_type": "code",
   "execution_count": 58,
   "metadata": {},
   "outputs": [
    {
     "data": {
      "text/plain": [
       "{'a': 12, 'v': 'verran', 5: 'Harry', 'li': [2, 3, 4]}"
      ]
     },
     "execution_count": 58,
     "metadata": {},
     "output_type": "execute_result"
    }
   ],
   "source": [
    "dict"
   ]
  },
  {
   "cell_type": "code",
   "execution_count": 59,
   "metadata": {},
   "outputs": [],
   "source": [
    "dict[\"Akshay\"]=\"Harry\"    # Adding values to keys"
   ]
  },
  {
   "cell_type": "code",
   "execution_count": 60,
   "metadata": {},
   "outputs": [
    {
     "data": {
      "text/plain": [
       "{'a': 12, 'v': 'verran', 5: 'Harry', 'li': [2, 3, 4], 'Akshay': 'Harry'}"
      ]
     },
     "execution_count": 60,
     "metadata": {},
     "output_type": "execute_result"
    }
   ],
   "source": [
    "dict"
   ]
  },
  {
   "cell_type": "markdown",
   "metadata": {},
   "source": [
    "* If we want to change key value then do this way"
   ]
  },
  {
   "cell_type": "code",
   "execution_count": 61,
   "metadata": {},
   "outputs": [
    {
     "data": {
      "text/plain": [
       "{'a': 12,\n",
       " 'v': 'verran',\n",
       " 5: 'CodewithAkshay',\n",
       " 'li': [2, 3, 4],\n",
       " 'Akshay': 'Harry'}"
      ]
     },
     "execution_count": 61,
     "metadata": {},
     "output_type": "execute_result"
    }
   ],
   "source": [
    "dict1={5: \"CodewithAkshay\"}\n",
    "dict.update(dict1)\n",
    "dict"
   ]
  },
  {
   "cell_type": "markdown",
   "metadata": {},
   "source": [
    "#### Set\n",
    " 1. Set is unique collection of object\n",
    " 2. They are in Rank ordered Sequence\n",
    " 3. They are not allowed Repeatation"
   ]
  },
  {
   "cell_type": "code",
   "execution_count": 62,
   "metadata": {},
   "outputs": [
    {
     "data": {
      "text/plain": [
       "{23, 78, 'ads', 'aks', 'asd', 'asdf', 'fahl'}"
      ]
     },
     "execution_count": 62,
     "metadata": {},
     "output_type": "execute_result"
    }
   ],
   "source": [
    "set1={\"ads\",\"aks\",\"asdf\",78,23,\"fahl\",23,\"asd\",\"aks\"}\n",
    "set1"
   ]
  },
  {
   "cell_type": "code",
   "execution_count": 63,
   "metadata": {},
   "outputs": [
    {
     "data": {
      "text/plain": [
       "set"
      ]
     },
     "execution_count": 63,
     "metadata": {},
     "output_type": "execute_result"
    }
   ],
   "source": [
    "type(set1)"
   ]
  },
  {
   "cell_type": "code",
   "execution_count": 64,
   "metadata": {},
   "outputs": [
    {
     "data": {
      "text/plain": [
       "{23, 78, 'added element', 'ads', 'aks', 'asd', 'asdf', 'fahl'}"
      ]
     },
     "execution_count": 64,
     "metadata": {},
     "output_type": "execute_result"
    }
   ],
   "source": [
    "set1.add(\"added element\")         # Add elements in SET\n",
    "set1"
   ]
  },
  {
   "cell_type": "code",
   "execution_count": 65,
   "metadata": {},
   "outputs": [
    {
     "name": "stdout",
     "output_type": "stream",
     "text": [
      "{0, 1, 11, 12, 'zds', 'fds', 'adsf'}\n"
     ]
    },
    {
     "data": {
      "text/plain": [
       "{23, 78, 'added element', 'ads', 'aks', 'asd', 'asdf', 'fahl'}"
      ]
     },
     "execution_count": 65,
     "metadata": {},
     "output_type": "execute_result"
    }
   ],
   "source": [
    "A={1,12,11,\"adsf\",\"zds\",\"adsf\",\"fds\",11,12}\n",
    "A.add(0)\n",
    "print(A)\n",
    "set1"
   ]
  },
  {
   "cell_type": "code",
   "execution_count": 66,
   "metadata": {},
   "outputs": [
    {
     "data": {
      "text/plain": [
       "True"
      ]
     },
     "execution_count": 66,
     "metadata": {},
     "output_type": "execute_result"
    }
   ],
   "source": [
    "12 in A"
   ]
  },
  {
   "cell_type": "code",
   "execution_count": 67,
   "metadata": {},
   "outputs": [
    {
     "data": {
      "text/plain": [
       "set()"
      ]
     },
     "execution_count": 67,
     "metadata": {},
     "output_type": "execute_result"
    }
   ],
   "source": [
    "A.intersection(set1)  #Intersection for Common values"
   ]
  },
  {
   "cell_type": "code",
   "execution_count": 68,
   "metadata": {},
   "outputs": [],
   "source": [
    "set1.add(11)"
   ]
  },
  {
   "cell_type": "code",
   "execution_count": 69,
   "metadata": {},
   "outputs": [],
   "source": [
    "A.add(\"asd\")"
   ]
  },
  {
   "cell_type": "code",
   "execution_count": 70,
   "metadata": {},
   "outputs": [
    {
     "name": "stdout",
     "output_type": "stream",
     "text": [
      "{'aks', 'ads', 'fahl', 11, 78, 'asd', 'added element', 23, 'asdf'}\n"
     ]
    },
    {
     "data": {
      "text/plain": [
       "{0, 1, 11, 12, 'adsf', 'asd', 'fds', 'zds'}"
      ]
     },
     "execution_count": 70,
     "metadata": {},
     "output_type": "execute_result"
    }
   ],
   "source": [
    "set1.union(A)    # Union\n",
    "\n",
    "print(set1)\n",
    "A"
   ]
  },
  {
   "cell_type": "code",
   "execution_count": 71,
   "metadata": {},
   "outputs": [
    {
     "name": "stdout",
     "output_type": "stream",
     "text": [
      "{0, 1, 11, 12, 'asd', 'zds', 'fds', 'adsf'}\n"
     ]
    },
    {
     "data": {
      "text/plain": [
       "{11, 23, 78, 'added element', 'ads', 'aks', 'asd', 'asdf', 'fahl'}"
      ]
     },
     "execution_count": 71,
     "metadata": {},
     "output_type": "execute_result"
    }
   ],
   "source": [
    "print(A)\n",
    "set1"
   ]
  },
  {
   "cell_type": "code",
   "execution_count": 72,
   "metadata": {},
   "outputs": [
    {
     "data": {
      "text/plain": [
       "{11, 'asd'}"
      ]
     },
     "execution_count": 72,
     "metadata": {},
     "output_type": "execute_result"
    }
   ],
   "source": [
    "set1.intersection(A)"
   ]
  },
  {
   "cell_type": "code",
   "execution_count": 73,
   "metadata": {},
   "outputs": [
    {
     "data": {
      "text/plain": [
       "{23, 78, 'added element', 'ads', 'aks', 'asdf', 'fahl'}"
      ]
     },
     "execution_count": 73,
     "metadata": {},
     "output_type": "execute_result"
    }
   ],
   "source": [
    "set1.difference(A)  #left outer join"
   ]
  },
  {
   "cell_type": "code",
   "execution_count": 74,
   "metadata": {},
   "outputs": [
    {
     "data": {
      "text/plain": [
       "{0, 1, 12, 'adsf', 'fds', 'zds'}"
      ]
     },
     "execution_count": 74,
     "metadata": {},
     "output_type": "execute_result"
    }
   ],
   "source": [
    "A.difference(set1)    #Right outer join"
   ]
  },
  {
   "cell_type": "code",
   "execution_count": 75,
   "metadata": {},
   "outputs": [],
   "source": [
    "a={1,2,3,4}\n",
    "b={1,2,6,7,9}"
   ]
  },
  {
   "cell_type": "code",
   "execution_count": 76,
   "metadata": {},
   "outputs": [
    {
     "data": {
      "text/plain": [
       "{3, 4}"
      ]
     },
     "execution_count": 76,
     "metadata": {},
     "output_type": "execute_result"
    }
   ],
   "source": [
    "a.difference(b)  #left outer join"
   ]
  },
  {
   "cell_type": "code",
   "execution_count": 77,
   "metadata": {},
   "outputs": [
    {
     "data": {
      "text/plain": [
       "{6, 7, 9}"
      ]
     },
     "execution_count": 77,
     "metadata": {},
     "output_type": "execute_result"
    }
   ],
   "source": [
    "b.difference(a)  #Right outer join"
   ]
  },
  {
   "cell_type": "markdown",
   "metadata": {},
   "source": [
    "#### Assignment Operators\n",
    "1. They always return logical vector as output\n",
    "2. They used to compare"
   ]
  },
  {
   "cell_type": "code",
   "execution_count": 78,
   "metadata": {},
   "outputs": [],
   "source": [
    "a=5 # assign value"
   ]
  },
  {
   "cell_type": "code",
   "execution_count": 79,
   "metadata": {},
   "outputs": [
    {
     "data": {
      "text/plain": [
       "True"
      ]
     },
     "execution_count": 79,
     "metadata": {},
     "output_type": "execute_result"
    }
   ],
   "source": [
    "a==5 # compare values"
   ]
  },
  {
   "cell_type": "code",
   "execution_count": 80,
   "metadata": {},
   "outputs": [
    {
     "data": {
      "text/plain": [
       "False"
      ]
     },
     "execution_count": 80,
     "metadata": {},
     "output_type": "execute_result"
    }
   ],
   "source": [
    "a!=5"
   ]
  },
  {
   "cell_type": "code",
   "execution_count": 81,
   "metadata": {},
   "outputs": [
    {
     "data": {
      "text/plain": [
       "False"
      ]
     },
     "execution_count": 81,
     "metadata": {},
     "output_type": "execute_result"
    }
   ],
   "source": [
    "a>5"
   ]
  },
  {
   "cell_type": "code",
   "execution_count": 82,
   "metadata": {},
   "outputs": [
    {
     "data": {
      "text/plain": [
       "True"
      ]
     },
     "execution_count": 82,
     "metadata": {},
     "output_type": "execute_result"
    }
   ],
   "source": [
    "a>=5"
   ]
  },
  {
   "cell_type": "markdown",
   "metadata": {},
   "source": [
    "## 4. Control Structure/Loops\n",
    " 1. Used to control Execution of Program\n",
    " 2. Based on differnt conditions programs get exected differenty"
   ]
  },
  {
   "cell_type": "markdown",
   "metadata": {},
   "source": [
    "#### 4.1 If/Else:\n",
    "1. If else statement are executed base on condition\n",
    "2. Othewise else will executed"
   ]
  },
  {
   "cell_type": "code",
   "execution_count": 83,
   "metadata": {},
   "outputs": [
    {
     "name": "stdout",
     "output_type": "stream",
     "text": [
      "\"you are Allowed give review\"\n"
     ]
    }
   ],
   "source": [
    "age=24\n",
    "if age>18:\n",
    "    print('\"you are Allowed give review\"')\n",
    "else:\n",
    "    print(\"Not allow\")"
   ]
  },
  {
   "cell_type": "code",
   "execution_count": 84,
   "metadata": {},
   "outputs": [
    {
     "name": "stdout",
     "output_type": "stream",
     "text": [
      "\"you are Allowed give review\"\n"
     ]
    }
   ],
   "source": [
    "age=24\n",
    "if age>18:\n",
    "    print('\"you are Allowed give review\"')\n",
    "elif age==18:\n",
    "    print(\"Go to Hall A my Dear\")\n",
    "else:\n",
    "    print(\"Not Now\")"
   ]
  },
  {
   "cell_type": "code",
   "execution_count": 85,
   "metadata": {},
   "outputs": [
    {
     "name": "stdout",
     "output_type": "stream",
     "text": [
      "Join Athletics\n"
     ]
    }
   ],
   "source": [
    "age=43\n",
    "weight=99\n",
    "if age<40 and weight>100:\n",
    "    print(\"Get in Shape\")\n",
    "elif age>40 and weight>100:\n",
    "    print(\"Reduce weight\")\n",
    "else:\n",
    "    print(\"Join Athletics\")"
   ]
  },
  {
   "cell_type": "markdown",
   "metadata": {},
   "source": [
    "#### 4.2 For Loops\n",
    "1. For loops are specifically used to run an instruction Multiple times\n",
    "2. For this we use the index of the object we are intersed in \n",
    "3. Typically methods such as range and enumrate help us to loop over different    object/data structures"
   ]
  },
  {
   "cell_type": "code",
   "execution_count": 86,
   "metadata": {},
   "outputs": [
    {
     "data": {
      "text/plain": [
       "range(0, 4)"
      ]
     },
     "execution_count": 86,
     "metadata": {},
     "output_type": "execute_result"
    }
   ],
   "source": [
    "range(4)"
   ]
  },
  {
   "cell_type": "code",
   "execution_count": 87,
   "metadata": {},
   "outputs": [
    {
     "data": {
      "text/plain": [
       "[0, 1, 2, 3]"
      ]
     },
     "execution_count": 87,
     "metadata": {},
     "output_type": "execute_result"
    }
   ],
   "source": [
    "list(range(4))"
   ]
  },
  {
   "cell_type": "code",
   "execution_count": 88,
   "metadata": {},
   "outputs": [],
   "source": [
    "years=[1200,2000,2021,2020]\n",
    "N=len(years)"
   ]
  },
  {
   "cell_type": "code",
   "execution_count": 89,
   "metadata": {},
   "outputs": [
    {
     "name": "stdout",
     "output_type": "stream",
     "text": [
      "Before change 0 date is  1200\n",
      "After change 0 Year is 2001\n",
      "Before change 1 date is  2000\n",
      "After change 1 Year is 2001\n",
      "Before change 2 date is  2021\n",
      "After change 2 Year is 2001\n",
      "Before change 3 date is  2020\n",
      "After change 3 Year is 2001\n"
     ]
    }
   ],
   "source": [
    "for i in range(N):\n",
    "    print(\"Before change\",i, \"date is \",years[i])\n",
    "    years[i]=2001\n",
    "    print(\"After change\",i, \"Year is\",years[i])"
   ]
  },
  {
   "cell_type": "code",
   "execution_count": 90,
   "metadata": {},
   "outputs": [
    {
     "name": "stdout",
     "output_type": "stream",
     "text": [
      "red\n",
      "before yellow\n",
      "after white\n",
      "green\n",
      "blue\n",
      "purple\n"
     ]
    }
   ],
   "source": [
    "square=[\"red\",\"yellow\",\"green\",\"blue\",\"purple\"]\n",
    "for i in range(len(square)):\n",
    "    square[i]\n",
    "    if square[i]==\"yellow\":\n",
    "        print(\"before\",square[i])\n",
    "        square[i]=\"white\"\n",
    "        print(\"after\",square[i])\n",
    "    else:\n",
    "        print(square[i])\n",
    "    "
   ]
  },
  {
   "cell_type": "code",
   "execution_count": 91,
   "metadata": {},
   "outputs": [
    {
     "name": "stdout",
     "output_type": "stream",
     "text": [
      "Before change red\n",
      "After change red\n",
      "Before change yellow\n",
      "After change white\n",
      "Before change green\n",
      "After change green\n",
      "Before change blue\n",
      "After change blue\n",
      "Before change purple\n",
      "After change purple\n"
     ]
    }
   ],
   "source": [
    "square=[\"red\",\"yellow\",\"green\",\"blue\",\"purple\"]\n",
    "for i in square :\n",
    "    print(\"Before change\",i)\n",
    "    if i != \"yellow\":\n",
    "        print(\"After change\",i)\n",
    "    else:\n",
    "        i=\"white\"\n",
    "        print(\"After change\",i) "
   ]
  },
  {
   "cell_type": "markdown",
   "metadata": {},
   "source": [
    "#### 4.3 While Loops\n",
    "\n",
    " 1. While loops are controlled loops\n",
    " 2. They run an execution repeatably until condition turns our False\n",
    " 3. While loops have a tendency to go into infinite execution if condition not meet\n",
    "    so be Careful while using while loops"
   ]
  },
  {
   "cell_type": "code",
   "execution_count": 92,
   "metadata": {},
   "outputs": [
    {
     "name": "stdout",
     "output_type": "stream",
     "text": [
      "12\n",
      "10\n",
      "100\n",
      "It seems 3 repeation to come out of Loop\n"
     ]
    }
   ],
   "source": [
    "list=[12,10,100,1230]\n",
    "i=0\n",
    "ele=0\n",
    "while (ele!=100):\n",
    "    ele=list[i]\n",
    "    print(ele)\n",
    "    i=i+1\n",
    "    \n",
    "print(\"It seems\",i,\"repeation to come out of Loop\")"
   ]
  },
  {
   "cell_type": "code",
   "execution_count": 93,
   "metadata": {},
   "outputs": [
    {
     "name": "stdout",
     "output_type": "stream",
     "text": [
      "It seems 0 repeation to come out of Loop\n",
      "It seems 1 repeation to come out of Loop\n",
      "It seems 2 repeation to come out of Loop\n"
     ]
    }
   ],
   "source": [
    "list=[12,10,100,1230]\n",
    "i=0\n",
    "ele=0\n",
    "while (ele<100):\n",
    "    ele=list[i]\n",
    "    print(\"It seems\",i,\"repeation to come out of Loop\")    \n",
    "    i=i+1\n"
   ]
  },
  {
   "cell_type": "code",
   "execution_count": 94,
   "metadata": {},
   "outputs": [],
   "source": [
    "a=range(5)"
   ]
  },
  {
   "cell_type": "code",
   "execution_count": 95,
   "metadata": {},
   "outputs": [
    {
     "name": "stdout",
     "output_type": "stream",
     "text": [
      "range(0, 5)\n"
     ]
    }
   ],
   "source": [
    "print(a)"
   ]
  },
  {
   "cell_type": "code",
   "execution_count": 96,
   "metadata": {},
   "outputs": [],
   "source": [
    "playliststrings=[10,9.5,10,7.5,5,10,10]\n",
    "#if score is less than 6 exit loop\n",
    "i=0\n",
    "while playliststrings[i]<6:\n",
    "    i=i+1\n",
    "    print(i)"
   ]
  },
  {
   "cell_type": "code",
   "execution_count": 97,
   "metadata": {},
   "outputs": [
    {
     "name": "stdout",
     "output_type": "stream",
     "text": [
      "1\n",
      "2\n",
      "3\n"
     ]
    }
   ],
   "source": [
    "a=[1,2,3,4]\n",
    "p=0\n",
    "i=0\n",
    "while p<3:\n",
    "    p=a[i]\n",
    "    i=i+1\n",
    "    print(p)"
   ]
  },
  {
   "cell_type": "code",
   "execution_count": 98,
   "metadata": {},
   "outputs": [
    {
     "name": "stdout",
     "output_type": "stream",
     "text": [
      "10\n",
      "9.5\n",
      "10\n",
      "7.5\n",
      "Yes you got out of while loop Since yoU get 5 which makes loop FALSE \n"
     ]
    }
   ],
   "source": [
    "playliststrings=[10,9.5,10,7.5,5,1,10]\n",
    "i=0\n",
    "p=playliststrings[i]\n",
    "\n",
    "while (p>=6):\n",
    "    print(p)\n",
    "    i=i+1\n",
    "    p=playliststrings[i]\n",
    "print(\"Yes you got out of while loop Since yoU get 5 which makes loop FALSE \")"
   ]
  },
  {
   "cell_type": "code",
   "execution_count": 99,
   "metadata": {},
   "outputs": [
    {
     "name": "stdout",
     "output_type": "stream",
     "text": [
      "10\n",
      "9.5\n",
      "10\n",
      "7.5\n",
      "It seems 4 repeatation is out of loop\n"
     ]
    }
   ],
   "source": [
    "playliststrings=[10,9.5,10,7.5,5,1,10]\n",
    "i=0\n",
    "Rating=playliststrings[i]\n",
    "while (Rating>=6):\n",
    "    print(Rating)\n",
    "    i=i+1\n",
    "    Rating=playliststrings[i]\n",
    "print(\"It seems\",i,\"repeatation is out of loop\")"
   ]
  },
  {
   "cell_type": "code",
   "execution_count": 100,
   "metadata": {},
   "outputs": [
    {
     "name": "stdout",
     "output_type": "stream",
     "text": [
      "orange\n",
      "purple\n",
      "blue\n",
      "orange\n"
     ]
    },
    {
     "ename": "IndexError",
     "evalue": "list index out of range",
     "output_type": "error",
     "traceback": [
      "\u001b[1;31m---------------------------------------------------------------------------\u001b[0m",
      "\u001b[1;31mIndexError\u001b[0m                                Traceback (most recent call last)",
      "\u001b[1;32m<ipython-input-100-efeba0bad2f2>\u001b[0m in \u001b[0;36m<module>\u001b[1;34m\u001b[0m\n\u001b[0;32m      7\u001b[0m     \u001b[0mnew_square\u001b[0m\u001b[1;33m.\u001b[0m\u001b[0mappend\u001b[0m\u001b[1;33m(\u001b[0m\u001b[0msq\u001b[0m\u001b[1;33m)\u001b[0m\u001b[1;33m\u001b[0m\u001b[1;33m\u001b[0m\u001b[0m\n\u001b[0;32m      8\u001b[0m     \u001b[0mi\u001b[0m\u001b[1;33m=\u001b[0m\u001b[0mi\u001b[0m\u001b[1;33m+\u001b[0m\u001b[1;36m1\u001b[0m\u001b[1;33m\u001b[0m\u001b[1;33m\u001b[0m\u001b[0m\n\u001b[1;32m----> 9\u001b[1;33m     \u001b[0mprint\u001b[0m\u001b[1;33m(\u001b[0m\u001b[0msquare\u001b[0m\u001b[1;33m[\u001b[0m\u001b[0mi\u001b[0m\u001b[1;33m]\u001b[0m\u001b[1;33m)\u001b[0m\u001b[1;33m\u001b[0m\u001b[1;33m\u001b[0m\u001b[0m\n\u001b[0m\u001b[0;32m     10\u001b[0m \u001b[0mprint\u001b[0m\u001b[1;33m(\u001b[0m\u001b[0mnew_square\u001b[0m\u001b[1;33m)\u001b[0m\u001b[1;33m\u001b[0m\u001b[1;33m\u001b[0m\u001b[0m\n",
      "\u001b[1;31mIndexError\u001b[0m: list index out of range"
     ]
    }
   ],
   "source": [
    "# \n",
    "square=[\"orange\",\"orange\",\"purple\",\"blue\",\"orange\"]\n",
    "new_square=[]\n",
    "i=0\n",
    "sq=square[i]\n",
    "while sq==\"orange\":\n",
    "    new_square.append(sq)\n",
    "    i=i+1\n",
    "    print(square[i])\n",
    "print(new_square)"
   ]
  },
  {
   "cell_type": "code",
   "execution_count": 1,
   "metadata": {},
   "outputs": [
    {
     "name": "stdout",
     "output_type": "stream",
     "text": [
      "10\n",
      "9.5\n",
      "10\n",
      "7.5\n",
      "It seems 4 repeatation is out of loop\n"
     ]
    }
   ],
   "source": [
    "playliststrings=[10,9.5,10,7.5,5,1,10]\n",
    "i=0\n",
    "Rating=playliststrings[i]\n",
    "while (Rating>=6):\n",
    "    print(Rating)\n",
    "    i=i+1\n",
    "    Rating=playliststrings[i]\n",
    "print(\"It seems\",i,\"repeatation is out of loop\")"
   ]
  },
  {
   "cell_type": "code",
   "execution_count": 2,
   "metadata": {},
   "outputs": [
    {
     "data": {
      "text/plain": [
       "'orange'"
      ]
     },
     "execution_count": 2,
     "metadata": {},
     "output_type": "execute_result"
    }
   ],
   "source": [
    "square=[\"orange\",\"orange\",\"purple\",\"blue\",\"orange\"]\n",
    "new=[]\n",
    "i=0\n",
    "sq=square[i]\n",
    "sq"
   ]
  },
  {
   "cell_type": "code",
   "execution_count": 3,
   "metadata": {},
   "outputs": [
    {
     "name": "stdout",
     "output_type": "stream",
     "text": [
      "orange\n",
      "orange\n"
     ]
    }
   ],
   "source": [
    "square=[\"orange\",\"orange\",\"purple\",\"blue\",\"orange\"]\n",
    "for i in square:\n",
    "    if i!=\"orange\":\n",
    "        break                \n",
    "        print(i)\n",
    "    else:\n",
    "        print(i)"
   ]
  },
  {
   "cell_type": "code",
   "execution_count": 4,
   "metadata": {},
   "outputs": [
    {
     "name": "stdout",
     "output_type": "stream",
     "text": [
      "It took 2 repeatation to get to point\n",
      "['orange', 'orange']\n"
     ]
    }
   ],
   "source": [
    "square=[\"orange\",\"orange\",\"purple\",\"blue\",\"orange\"]\n",
    "new=[]\n",
    "i=0\n",
    "while square[i]==\"orange\":\n",
    "    new.append(square[i])\n",
    "    i=i+1\n",
    "print(\"It took\",i,\"repeatation to get to point\")\n",
    "print(new)"
   ]
  },
  {
   "cell_type": "markdown",
   "metadata": {},
   "source": [
    "## 5.Function\n",
    "1. Function are code chunks meant to perform a specific task\n",
    "2. Insted of writting the same code again and again we creat function\n",
    "3. Function have argument -(default,user-defined)\n",
    "4. Function do return call as well to return an output\n",
    "5. Function are created using def argument followed by function name and paranthesis"
   ]
  },
  {
   "cell_type": "code",
   "execution_count": 5,
   "metadata": {},
   "outputs": [],
   "source": [
    "def add(n):\n",
    "    \"\"\" \n",
    "    add 5 to a number passed by user\n",
    "    \"\"\"\n",
    "    b=n+5\n",
    "    print(n,\"if you add 5 then :\",b)\n",
    "    return(b)"
   ]
  },
  {
   "cell_type": "code",
   "execution_count": 6,
   "metadata": {},
   "outputs": [
    {
     "name": "stdout",
     "output_type": "stream",
     "text": [
      "42345 if you add 5 then : 42350\n"
     ]
    },
    {
     "data": {
      "text/plain": [
       "42350"
      ]
     },
     "execution_count": 6,
     "metadata": {},
     "output_type": "execute_result"
    }
   ],
   "source": [
    "add(42345)  # calling function"
   ]
  },
  {
   "cell_type": "code",
   "execution_count": 7,
   "metadata": {},
   "outputs": [
    {
     "name": "stdout",
     "output_type": "stream",
     "text": [
      "Help on function add in module __main__:\n",
      "\n",
      "add(n)\n",
      "    add 5 to a number passed by user\n",
      "\n"
     ]
    }
   ],
   "source": [
    "help(add)  #access the documentation"
   ]
  },
  {
   "cell_type": "code",
   "execution_count": 8,
   "metadata": {},
   "outputs": [],
   "source": [
    "def mult(a,b):\n",
    "    return(a*b)"
   ]
  },
  {
   "cell_type": "code",
   "execution_count": 9,
   "metadata": {},
   "outputs": [
    {
     "data": {
      "text/plain": [
       "'akshay akshay akshay akshay '"
      ]
     },
     "execution_count": 9,
     "metadata": {},
     "output_type": "execute_result"
    }
   ],
   "source": [
    "mult(\"akshay \",4)"
   ]
  },
  {
   "cell_type": "code",
   "execution_count": 10,
   "metadata": {},
   "outputs": [
    {
     "data": {
      "text/plain": [
       "120"
      ]
     },
     "execution_count": 10,
     "metadata": {},
     "output_type": "execute_result"
    }
   ],
   "source": [
    "# output can be stored via RETURN any time\n",
    "out=mult(12,10)\n",
    "out"
   ]
  },
  {
   "cell_type": "code",
   "execution_count": 11,
   "metadata": {},
   "outputs": [
    {
     "data": {
      "text/plain": [
       "15"
      ]
     },
     "execution_count": 11,
     "metadata": {},
     "output_type": "execute_result"
    }
   ],
   "source": [
    "l=[1,2,3,4,5]\n",
    "sum(l)     # Pre Defined Function"
   ]
  },
  {
   "cell_type": "code",
   "execution_count": 12,
   "metadata": {},
   "outputs": [
    {
     "name": "stdout",
     "output_type": "stream",
     "text": [
      "Help on built-in function sum in module builtins:\n",
      "\n",
      "sum(iterable, /, start=0)\n",
      "    Return the sum of a 'start' value (default: 0) plus an iterable of numbers\n",
      "    \n",
      "    When the iterable is empty, return the start value.\n",
      "    This function is intended specifically for use with numeric values and may\n",
      "    reject non-numeric types.\n",
      "\n"
     ]
    }
   ],
   "source": [
    "help(sum)"
   ]
  },
  {
   "cell_type": "code",
   "execution_count": 13,
   "metadata": {},
   "outputs": [],
   "source": [
    "# Local variable\n",
    "def cube(a):\n",
    "    \"\"\"\"cube the inpot and add 1 to it\"\"\"\n",
    "    b=1\n",
    "    c=a*a*a+1\n",
    "    return(c)"
   ]
  },
  {
   "cell_type": "code",
   "execution_count": 14,
   "metadata": {},
   "outputs": [
    {
     "name": "stdout",
     "output_type": "stream",
     "text": [
      "Help on function cube in module __main__:\n",
      "\n",
      "cube(a)\n",
      "    \"cube the inpot and add 1 to it\n",
      "\n"
     ]
    }
   ],
   "source": [
    "help(cube)"
   ]
  },
  {
   "cell_type": "code",
   "execution_count": 15,
   "metadata": {},
   "outputs": [
    {
     "data": {
      "text/plain": [
       "28"
      ]
     },
     "execution_count": 15,
     "metadata": {},
     "output_type": "execute_result"
    }
   ],
   "source": [
    "cube(3)"
   ]
  },
  {
   "cell_type": "code",
   "execution_count": 16,
   "metadata": {},
   "outputs": [
    {
     "ename": "NameError",
     "evalue": "name 'b' is not defined",
     "output_type": "error",
     "traceback": [
      "\u001b[1;31m---------------------------------------------------------------------------\u001b[0m",
      "\u001b[1;31mNameError\u001b[0m                                 Traceback (most recent call last)",
      "\u001b[1;32m<ipython-input-16-2c24b0abd790>\u001b[0m in \u001b[0;36m<module>\u001b[1;34m\u001b[0m\n\u001b[1;32m----> 1\u001b[1;33m \u001b[0mb\u001b[0m  \u001b[1;31m# b cannot be assessed outside the function\u001b[0m\u001b[1;33m\u001b[0m\u001b[1;33m\u001b[0m\u001b[0m\n\u001b[0m",
      "\u001b[1;31mNameError\u001b[0m: name 'b' is not defined"
     ]
    }
   ],
   "source": [
    "b  # b cannot be assessed outside the function"
   ]
  },
  {
   "cell_type": "code",
   "execution_count": null,
   "metadata": {},
   "outputs": [],
   "source": [
    "def type_of_album(artist,year):\n",
    "    if year>2000:\n",
    "        print(\"Artist is \",artist,\"year is\",year)\n",
    "        print(\"This is Modern\")\n",
    "    else:\n",
    "        print(\"Artist is \",artist,\"year is\",year)\n",
    "        print(\"This album is old\")\n"
   ]
  },
  {
   "cell_type": "code",
   "execution_count": null,
   "metadata": {},
   "outputs": [],
   "source": [
    "type_of_album(\"akshay\",2021)"
   ]
  },
  {
   "cell_type": "code",
   "execution_count": null,
   "metadata": {},
   "outputs": [],
   "source": [
    "type_of_album(\"lata\",1900)"
   ]
  },
  {
   "cell_type": "code",
   "execution_count": null,
   "metadata": {},
   "outputs": [],
   "source": [
    "a=\"ac/dc\"\n",
    "def printa(a):\n",
    "    internal_a=a\n",
    "    print(a,\"is an music band\")"
   ]
  },
  {
   "cell_type": "code",
   "execution_count": null,
   "metadata": {},
   "outputs": [],
   "source": [
    "printa(a)"
   ]
  },
  {
   "cell_type": "code",
   "execution_count": null,
   "metadata": {},
   "outputs": [],
   "source": [
    "internal_a   # Internal var is global value"
   ]
  },
  {
   "cell_type": "code",
   "execution_count": null,
   "metadata": {},
   "outputs": [],
   "source": [
    "ar=\"ac/dc2000\"\n",
    "def printa2(ar):\n",
    "    global internal_a\n",
    "    internal_a=\"see I am Globally Avilable\"\n",
    "    print(a,\"is an music band\")"
   ]
  },
  {
   "cell_type": "code",
   "execution_count": null,
   "metadata": {},
   "outputs": [],
   "source": [
    "printa2(a)"
   ]
  },
  {
   "cell_type": "code",
   "execution_count": null,
   "metadata": {},
   "outputs": [],
   "source": [
    "internal_a"
   ]
  },
  {
   "cell_type": "code",
   "execution_count": null,
   "metadata": {},
   "outputs": [],
   "source": [
    "printa2(internal_a)"
   ]
  },
  {
   "cell_type": "markdown",
   "metadata": {},
   "source": [
    "# Python Lambda Expression and List Comprehension"
   ]
  },
  {
   "cell_type": "markdown",
   "metadata": {},
   "source": [
    "This is Anonous function\n",
    "Syntex:lambda argument:Expression\n",
    "\n",
    "This function can have any nos of argument but (One)1 expression only\n",
    "This is restricted to single Expression\n",
    "Lambda Function can be used with build in Function like filter,map,reduce"
   ]
  },
  {
   "cell_type": "code",
   "execution_count": null,
   "metadata": {},
   "outputs": [],
   "source": [
    "# To find Cube:\n",
    "# Using Define Function\n",
    "def cube(i):\n",
    "    return i*i*i\n",
    "\n",
    "# Using Lambda Function\n",
    "lambda_cube= lambda i : i*i*i\n",
    "\n",
    "print(cube(25))\n",
    "print(lambda_cube(25))"
   ]
  },
  {
   "cell_type": "markdown",
   "metadata": {},
   "source": [
    "### Lambda Funtion with Filter"
   ]
  },
  {
   "cell_type": "markdown",
   "metadata": {},
   "source": [
    "#### Filter  Only used for filtering out element Based on condition given(filter( lambda ip : check,list))"
   ]
  },
  {
   "cell_type": "code",
   "execution_count": null,
   "metadata": {},
   "outputs": [],
   "source": [
    "# Only Even Numbers\n",
    "li=[1,4,123,34,53466,32,1654,23]\n",
    "lambda i : i%2==0\n",
    "final= list(filter(lambda i : (i%2==0),li))\n",
    "final"
   ]
  },
  {
   "cell_type": "code",
   "execution_count": null,
   "metadata": {},
   "outputs": [],
   "source": [
    "# Filter for >18\n",
    "age=[10,70,10,30,12,18]\n",
    "age_new=list(filter(lambda i : (i>18),age))\n",
    "age_new"
   ]
  },
  {
   "cell_type": "code",
   "execution_count": null,
   "metadata": {},
   "outputs": [],
   "source": [
    "set(filter(lambda i : (i>18),age))"
   ]
  },
  {
   "cell_type": "markdown",
   "metadata": {},
   "source": [
    "### Lambda Function with Map"
   ]
  },
  {
   "cell_type": "markdown",
   "metadata": {},
   "source": [
    "#### Map Only used when we are MODIFYING OUR LIST(map(lambda ip : modify,list))"
   ]
  },
  {
   "cell_type": "markdown",
   "metadata": {},
   "source": [
    "Using lambda() Function with Map() function in Python takes in a function and list as an Argument Function is called as lambda function and a list and new list is Returned which contains all lambda modified items returned by that function for each item"
   ]
  },
  {
   "cell_type": "code",
   "execution_count": null,
   "metadata": {},
   "outputs": [],
   "source": [
    "# map() with Lambda\n",
    "a=list(range(1,20,2))\n",
    "print(a)\n",
    "final_li=list(map(lambda i : i+100 ,a))\n",
    "final_li"
   ]
  },
  {
   "cell_type": "code",
   "execution_count": null,
   "metadata": {},
   "outputs": [],
   "source": [
    "# categorial Data\n",
    "a=[\"man\",\"product\",\"price\",\"promotion\"]\n",
    "cap=list(map(lambda i : str.upper(i),a))\n",
    "cap"
   ]
  },
  {
   "cell_type": "code",
   "execution_count": null,
   "metadata": {},
   "outputs": [],
   "source": [
    "nested=list(map((lambda i : i*10),list(filter(lambda j : j<19,age))))\n",
    "nested"
   ]
  },
  {
   "cell_type": "code",
   "execution_count": null,
   "metadata": {},
   "outputs": [],
   "source": [
    "final_li=list(map(lambda i : i*100 ,list(filter(lambda i : (i>18),age))))\n",
    "final_li"
   ]
  },
  {
   "cell_type": "code",
   "execution_count": null,
   "metadata": {},
   "outputs": [],
   "source": [
    "# filter and Map\n",
    "final2=list(filter(lambda i:i>50,list(map(lambda j : j+30,age))))\n",
    "final"
   ]
  },
  {
   "cell_type": "code",
   "execution_count": null,
   "metadata": {},
   "outputs": [],
   "source": [
    "# Filter for >18\n",
    "age=[10,70,10,30,12,18]\n",
    "age_new=list(filter(lambda i : (i>18),age))\n",
    "age_new"
   ]
  },
  {
   "cell_type": "code",
   "execution_count": null,
   "metadata": {},
   "outputs": [],
   "source": [
    "l=[19,65,57,39,152,639,121,44,90,190]\n",
    "fl= filter(lambda i : (i%13==0 or i%19==0),l)\n",
    "fl=tuple(fl)\n",
    "print(fl)"
   ]
  },
  {
   "cell_type": "code",
   "execution_count": null,
   "metadata": {},
   "outputs": [],
   "source": [
    "lt=[19,65,57,39,152,639,121,44,90,190]\n",
    "new=[ i for i in lt if i%13==0 or i%19==0]\n",
    "new"
   ]
  },
  {
   "cell_type": "code",
   "execution_count": null,
   "metadata": {},
   "outputs": [],
   "source": [
    "a=list(filter(lambda i : i,lt))\n",
    "a"
   ]
  },
  {
   "cell_type": "code",
   "execution_count": null,
   "metadata": {},
   "outputs": [],
   "source": [
    "# It must divide by both 13 and 19\n",
    "old=[19,65,57,39,152,639,121,44,90,190]\n",
    "list(filter(lambda i : i%13==0 or i%19==0,old))"
   ]
  },
  {
   "cell_type": "markdown",
   "metadata": {},
   "source": [
    "## Reduce"
   ]
  },
  {
   "cell_type": "markdown",
   "metadata": {},
   "source": [
    "#### This function is used for consecutive SUM,MAX,MIN and scroll throughout list"
   ]
  },
  {
   "cell_type": "code",
   "execution_count": null,
   "metadata": {},
   "outputs": [],
   "source": [
    "from functools import reduce\n",
    "li=[1,2,3,4]\n",
    "sum= reduce(lambda x,y : x+y,li)\n",
    "print(sum)"
   ]
  },
  {
   "cell_type": "markdown",
   "metadata": {},
   "source": [
    "* Here the result of Previous 2 added to next element"
   ]
  },
  {
   "cell_type": "code",
   "execution_count": null,
   "metadata": {},
   "outputs": [],
   "source": [
    "import functools\n",
    "li=[1,2,4,10,23,2]\n",
    "print(\"Maximum Element in list :\",end=\"\")\n",
    "print(functools.reduce(lambda a,b :a if a>b else b,li))"
   ]
  },
  {
   "cell_type": "code",
   "execution_count": null,
   "metadata": {},
   "outputs": [],
   "source": [
    "from functools import reduce\n",
    "li=[1,2,3,4]\n",
    "sum= reduce(lambda x,y : x+y,li)\n",
    "print(sum)"
   ]
  },
  {
   "cell_type": "code",
   "execution_count": null,
   "metadata": {},
   "outputs": [],
   "source": [
    "a=[1,2,45,13,23,10]\n",
    "for i in range(0,len(a),2):\n",
    "    print(a[i])"
   ]
  },
  {
   "cell_type": "code",
   "execution_count": null,
   "metadata": {},
   "outputs": [],
   "source": [
    "from functools import reduce\n",
    "hero=[1,2,3,6,8,14,20,100,1000]\n",
    "print(hero)\n",
    "he=[hero[i] for i in range(0,len(hero),2)]\n",
    "print(he)\n",
    "reduce(lambda x,y : x+y,he)"
   ]
  },
  {
   "cell_type": "markdown",
   "metadata": {},
   "source": [
    "## List Comprehesion"
   ]
  },
  {
   "cell_type": "code",
   "execution_count": null,
   "metadata": {},
   "outputs": [],
   "source": [
    "# Square of all even nos\n",
    "even_sq=[ i**2 for i in range(1,11) if i%2==0]\n",
    "print(even_sq,\"This is List Comprehesion\")\n",
    "\n",
    "evensq=[]\n",
    "for i in range(1,11):\n",
    "    if i%2==0:\n",
    "        evensq.append(i**2)\n",
    "print(evensq)"
   ]
  },
  {
   "cell_type": "code",
   "execution_count": null,
   "metadata": {},
   "outputs": [],
   "source": [
    "# power 3\n",
    "power_3=[3**i for i in range(1,11)]\n",
    "power_3"
   ]
  },
  {
   "cell_type": "code",
   "execution_count": null,
   "metadata": {},
   "outputs": [],
   "source": [
    "#prime and not prime 1 to 50\n",
    "nonprime=[k for i in range(2,8) for k in range(i*2,50,i)]\n",
    "prime=[x for x in range(2,50) if x not in nonprime]\n",
    "print(prime)\n",
    "nonprime.sort()\n",
    "print(nonprime,end=\" \")"
   ]
  },
  {
   "cell_type": "code",
   "execution_count": null,
   "metadata": {},
   "outputs": [],
   "source": [
    "# list for lowering character \n",
    "print([a.lower() for a in cap])"
   ]
  },
  {
   "cell_type": "code",
   "execution_count": null,
   "metadata": {},
   "outputs": [],
   "source": [
    "#prime and not prime 1 to 50\n",
    "nonprime=[k for i in range(2,100) for k in range(i**2,100,i)]\n",
    "prime=[x for x in range(2,100) if x not in nonprime]\n",
    "print(prime)\n",
    "nonprime.sort()\n",
    "print(nonprime,end=\" \")\n",
    "\n",
    "len([2, 3, 5, 7, 11, 13, 17, 19, 23, 29, 31, 37, 41, 43, 47, 53, 59, 61, 67, 71, 73, 79, 83, 89, 97])"
   ]
  },
  {
   "cell_type": "code",
   "execution_count": null,
   "metadata": {},
   "outputs": [],
   "source": [
    "# list Extract number\n",
    "string=\"My house no is : 777777asdf78\"\n",
    "print(\"Extracted Digits\")\n",
    "num=[i for i in string if i.isdigit()]\n",
    "num"
   ]
  },
  {
   "cell_type": "code",
   "execution_count": null,
   "metadata": {},
   "outputs": [],
   "source": [
    "# list multiple table\n",
    "a=17\n",
    "table=[[a,\"*\",b,\"=\",a*b] for b in range(1,16) ]\n",
    "print(\"Multiplication Table\")\n",
    "for i in table:\n",
    "    print(i)"
   ]
  },
  {
   "cell_type": "markdown",
   "metadata": {},
   "source": [
    "### List Comprehesion and Lambda"
   ]
  },
  {
   "cell_type": "code",
   "execution_count": null,
   "metadata": {},
   "outputs": [],
   "source": [
    "import functools\n",
    "ls=list(filter(lambda x : x%2==0,range(1,25)))\n",
    "print(ls)\n",
    "\n",
    "di5=filter(lambda i : i%5==0,[x**2 for x in range(1,11,2)])\n",
    "print(list(di5))\n",
    "\n",
    "lst=filter(lambda x : x<2,range(-10,5))\n",
    "print(list(lst))\n",
    "\n",
    "print(functools.reduce(lambda a,b : a if( a<b )else b,[100,123,12,124]))\n"
   ]
  },
  {
   "cell_type": "code",
   "execution_count": null,
   "metadata": {},
   "outputs": [],
   "source": [
    "from functools import reduce\n",
    "print(reduce(lambda x,y : x+y,filter(lambda i : i>0,org)),\"Negative sum\")\n",
    "print(reduce(lambda x,y : x+y,filter(lambda i : i<0,org)),\"Positive sum\")\n"
   ]
  },
  {
   "cell_type": "code",
   "execution_count": null,
   "metadata": {},
   "outputs": [],
   "source": [
    "Original=[(\"English\",88),(\"Science\",90),(\"Maths\",97),(\"Social Science\",82)]\n",
    "Original.sort(key = lambda i : i[1])\n",
    "Original"
   ]
  },
  

 ],
 "metadata": {
  "kernelspec": {
   "display_name": "Python 3",
   "language": "python",
   "name": "python3"
  },
  "language_info": {
   "codemirror_mode": {
    "name": "ipython",
    "version": 3
   },
   "file_extension": ".py",
   "mimetype": "text/x-python",
   "name": "python",
   "nbconvert_exporter": "python",
   "pygments_lexer": "ipython3",
   "version": "3.8.5"
  }
 },
 "nbformat": 4,
 "nbformat_minor": 4
}
